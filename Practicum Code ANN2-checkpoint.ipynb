{
 "cells": [
  {
   "cell_type": "code",
   "execution_count": 79,
   "id": "72259709-c6fd-48d1-bbea-c6ae00dfea71",
   "metadata": {
    "tags": []
   },
   "outputs": [],
   "source": [
    "import pandas as pd\n",
    "import numpy as np\n",
    "import os\n",
    "import matplotlib.pyplot as plt\n",
    "import seaborn as sns\n",
    "from sklearn.linear_model import LinearRegression, LogisticRegression\n",
    "from sklearn.metrics import r2_score, confusion_matrix, classification_report, roc_curve, auc, RocCurveDisplay, ConfusionMatrixDisplay\n",
    "from sklearn.inspection import permutation_importance\n",
    "from sklearn.model_selection import train_test_split\n",
    "from keras.wrappers.scikit_learn import KerasClassifier\n",
    "from keras.utils import np_utils\n",
    "\n",
    "# for modeling\n",
    "from keras.models import Sequential\n",
    "from keras.layers import Dense, Dropout\n",
    "from keras.callbacks import EarlyStopping\n",
    "import tensorflow as tf\n",
    "\n",
    "\n",
    "#display\n",
    "pd.set_option('display.max_columns', None)\n",
    "np.set_printoptions(suppress=True)"
   ]
  },
  {
   "cell_type": "code",
   "execution_count": 80,
   "id": "91ae355b-36cf-4dce-a202-183384527367",
   "metadata": {
    "tags": []
   },
   "outputs": [],
   "source": [
    "df = pd.read_csv('Invistico_Airline_Original_Copy.csv') # read the data from csv file"
   ]
  },
  {
   "cell_type": "code",
   "execution_count": 82,
   "id": "a177d7d0-37ed-4e54-97a3-d5b6655e4660",
   "metadata": {
    "tags": []
   },
   "outputs": [
    {
     "name": "stdout",
     "output_type": "stream",
     "text": [
      "<class 'pandas.core.frame.DataFrame'>\n",
      "RangeIndex: 129880 entries, 0 to 129879\n",
      "Data columns (total 23 columns):\n",
      " #   Column                             Non-Null Count   Dtype  \n",
      "---  ------                             --------------   -----  \n",
      " 0   satisfaction                       129880 non-null  object \n",
      " 1   Gender                             129880 non-null  object \n",
      " 2   Customer Type                      129880 non-null  object \n",
      " 3   Type of Travel                     129880 non-null  object \n",
      " 4   Class                              129880 non-null  object \n",
      " 5   Flight Distance                    129880 non-null  int64  \n",
      " 6   Seat comfort                       129880 non-null  int64  \n",
      " 7   Departure/Arrival time convenient  129880 non-null  int64  \n",
      " 8   Age                                129880 non-null  int64  \n",
      " 9   Food and drink                     129880 non-null  int64  \n",
      " 10  Gate location                      129880 non-null  int64  \n",
      " 11  Inflight wifi service              129880 non-null  int64  \n",
      " 12  Inflight entertainment             129880 non-null  int64  \n",
      " 13  Online support                     129880 non-null  int64  \n",
      " 14  Ease of Online booking             129880 non-null  int64  \n",
      " 15  On-board service                   129880 non-null  int64  \n",
      " 16  Leg room service                   129880 non-null  int64  \n",
      " 17  Baggage handling                   129880 non-null  int64  \n",
      " 18  Checkin service                    129880 non-null  int64  \n",
      " 19  Cleanliness                        129880 non-null  int64  \n",
      " 20  Online boarding                    129880 non-null  int64  \n",
      " 21  Departure Delay in Minutes         129880 non-null  int64  \n",
      " 22  Arrival Delay in Minutes           129487 non-null  float64\n",
      "dtypes: float64(1), int64(17), object(5)\n",
      "memory usage: 22.8+ MB\n"
     ]
    }
   ],
   "source": [
    "df.info()"
   ]
  },
  {
   "cell_type": "code",
   "execution_count": 83,
   "id": "dc66f3cd-202d-4fc3-abce-e1095086e63e",
   "metadata": {
    "tags": []
   },
   "outputs": [
    {
     "data": {
      "text/plain": [
       "satisfaction                           0\n",
       "Gender                                 0\n",
       "Customer Type                          0\n",
       "Type of Travel                         0\n",
       "Class                                  0\n",
       "Flight Distance                        0\n",
       "Seat comfort                           0\n",
       "Departure/Arrival time convenient      0\n",
       "Age                                    0\n",
       "Food and drink                         0\n",
       "Gate location                          0\n",
       "Inflight wifi service                  0\n",
       "Inflight entertainment                 0\n",
       "Online support                         0\n",
       "Ease of Online booking                 0\n",
       "On-board service                       0\n",
       "Leg room service                       0\n",
       "Baggage handling                       0\n",
       "Checkin service                        0\n",
       "Cleanliness                            0\n",
       "Online boarding                        0\n",
       "Departure Delay in Minutes             0\n",
       "Arrival Delay in Minutes             393\n",
       "dtype: int64"
      ]
     },
     "execution_count": 83,
     "metadata": {},
     "output_type": "execute_result"
    }
   ],
   "source": [
    "#check for null values\n",
    "df.isna().sum()"
   ]
  },
  {
   "cell_type": "code",
   "execution_count": 84,
   "id": "adce2210-8c54-413c-8dc9-86e133f47204",
   "metadata": {
    "tags": []
   },
   "outputs": [],
   "source": [
    "#delete row method\n",
    "df_delete_row = df.dropna(axis=0)"
   ]
  },
  {
   "cell_type": "code",
   "execution_count": 85,
   "id": "2a243df9-b833-4cb8-91ba-7fa58acfb24f",
   "metadata": {
    "tags": []
   },
   "outputs": [
    {
     "data": {
      "text/plain": [
       "satisfaction                         0\n",
       "Gender                               0\n",
       "Customer Type                        0\n",
       "Type of Travel                       0\n",
       "Class                                0\n",
       "Flight Distance                      0\n",
       "Seat comfort                         0\n",
       "Departure/Arrival time convenient    0\n",
       "Age                                  0\n",
       "Food and drink                       0\n",
       "Gate location                        0\n",
       "Inflight wifi service                0\n",
       "Inflight entertainment               0\n",
       "Online support                       0\n",
       "Ease of Online booking               0\n",
       "On-board service                     0\n",
       "Leg room service                     0\n",
       "Baggage handling                     0\n",
       "Checkin service                      0\n",
       "Cleanliness                          0\n",
       "Online boarding                      0\n",
       "Departure Delay in Minutes           0\n",
       "Arrival Delay in Minutes             0\n",
       "dtype: int64"
      ]
     },
     "execution_count": 85,
     "metadata": {},
     "output_type": "execute_result"
    }
   ],
   "source": [
    "#validate that null values were removed\n",
    "df_delete_row.isna().sum(axis=0)"
   ]
  },
  {
   "cell_type": "code",
   "execution_count": 86,
   "id": "af609826-c83d-41ce-83e3-ac5ffefea13c",
   "metadata": {
    "tags": []
   },
   "outputs": [
    {
     "name": "stderr",
     "output_type": "stream",
     "text": [
      "C:\\Users\\mblus\\AppData\\Local\\Temp\\ipykernel_21068\\110920926.py:2: SettingWithCopyWarning: \n",
      "A value is trying to be set on a copy of a slice from a DataFrame.\n",
      "Try using .loc[row_indexer,col_indexer] = value instead\n",
      "\n",
      "See the caveats in the documentation: https://pandas.pydata.org/pandas-docs/stable/user_guide/indexing.html#returning-a-view-versus-a-copy\n",
      "  df_delete_row['satisfaction'] = df_delete_row['satisfaction'].replace({'satisfied': 1, 'dissatisfied': 0})\n"
     ]
    },
    {
     "data": {
      "text/html": [
       "<div>\n",
       "<style scoped>\n",
       "    .dataframe tbody tr th:only-of-type {\n",
       "        vertical-align: middle;\n",
       "    }\n",
       "\n",
       "    .dataframe tbody tr th {\n",
       "        vertical-align: top;\n",
       "    }\n",
       "\n",
       "    .dataframe thead th {\n",
       "        text-align: right;\n",
       "    }\n",
       "</style>\n",
       "<table border=\"1\" class=\"dataframe\">\n",
       "  <thead>\n",
       "    <tr style=\"text-align: right;\">\n",
       "      <th></th>\n",
       "      <th>satisfaction</th>\n",
       "      <th>Gender</th>\n",
       "      <th>Customer Type</th>\n",
       "      <th>Type of Travel</th>\n",
       "      <th>Class</th>\n",
       "      <th>Flight Distance</th>\n",
       "      <th>Seat comfort</th>\n",
       "      <th>Departure/Arrival time convenient</th>\n",
       "      <th>Age</th>\n",
       "      <th>Food and drink</th>\n",
       "      <th>Gate location</th>\n",
       "      <th>Inflight wifi service</th>\n",
       "      <th>Inflight entertainment</th>\n",
       "      <th>Online support</th>\n",
       "      <th>Ease of Online booking</th>\n",
       "      <th>On-board service</th>\n",
       "      <th>Leg room service</th>\n",
       "      <th>Baggage handling</th>\n",
       "      <th>Checkin service</th>\n",
       "      <th>Cleanliness</th>\n",
       "      <th>Online boarding</th>\n",
       "      <th>Departure Delay in Minutes</th>\n",
       "      <th>Arrival Delay in Minutes</th>\n",
       "    </tr>\n",
       "  </thead>\n",
       "  <tbody>\n",
       "    <tr>\n",
       "      <th>0</th>\n",
       "      <td>1</td>\n",
       "      <td>Female</td>\n",
       "      <td>Loyal Customer</td>\n",
       "      <td>Personal Travel</td>\n",
       "      <td>Eco</td>\n",
       "      <td>265</td>\n",
       "      <td>0</td>\n",
       "      <td>0</td>\n",
       "      <td>65</td>\n",
       "      <td>0</td>\n",
       "      <td>2</td>\n",
       "      <td>2</td>\n",
       "      <td>4</td>\n",
       "      <td>2</td>\n",
       "      <td>3</td>\n",
       "      <td>3</td>\n",
       "      <td>0</td>\n",
       "      <td>3</td>\n",
       "      <td>5</td>\n",
       "      <td>3</td>\n",
       "      <td>2</td>\n",
       "      <td>0</td>\n",
       "      <td>0.0</td>\n",
       "    </tr>\n",
       "    <tr>\n",
       "      <th>1</th>\n",
       "      <td>1</td>\n",
       "      <td>Male</td>\n",
       "      <td>Loyal Customer</td>\n",
       "      <td>Personal Travel</td>\n",
       "      <td>Business</td>\n",
       "      <td>2464</td>\n",
       "      <td>0</td>\n",
       "      <td>0</td>\n",
       "      <td>47</td>\n",
       "      <td>0</td>\n",
       "      <td>3</td>\n",
       "      <td>0</td>\n",
       "      <td>2</td>\n",
       "      <td>2</td>\n",
       "      <td>3</td>\n",
       "      <td>4</td>\n",
       "      <td>4</td>\n",
       "      <td>4</td>\n",
       "      <td>2</td>\n",
       "      <td>3</td>\n",
       "      <td>2</td>\n",
       "      <td>310</td>\n",
       "      <td>305.0</td>\n",
       "    </tr>\n",
       "    <tr>\n",
       "      <th>2</th>\n",
       "      <td>1</td>\n",
       "      <td>Female</td>\n",
       "      <td>Loyal Customer</td>\n",
       "      <td>Personal Travel</td>\n",
       "      <td>Eco</td>\n",
       "      <td>2138</td>\n",
       "      <td>0</td>\n",
       "      <td>0</td>\n",
       "      <td>15</td>\n",
       "      <td>0</td>\n",
       "      <td>3</td>\n",
       "      <td>2</td>\n",
       "      <td>0</td>\n",
       "      <td>2</td>\n",
       "      <td>2</td>\n",
       "      <td>3</td>\n",
       "      <td>3</td>\n",
       "      <td>4</td>\n",
       "      <td>4</td>\n",
       "      <td>4</td>\n",
       "      <td>2</td>\n",
       "      <td>0</td>\n",
       "      <td>0.0</td>\n",
       "    </tr>\n",
       "    <tr>\n",
       "      <th>3</th>\n",
       "      <td>1</td>\n",
       "      <td>Female</td>\n",
       "      <td>Loyal Customer</td>\n",
       "      <td>Personal Travel</td>\n",
       "      <td>Eco</td>\n",
       "      <td>623</td>\n",
       "      <td>0</td>\n",
       "      <td>0</td>\n",
       "      <td>60</td>\n",
       "      <td>0</td>\n",
       "      <td>3</td>\n",
       "      <td>3</td>\n",
       "      <td>4</td>\n",
       "      <td>3</td>\n",
       "      <td>1</td>\n",
       "      <td>1</td>\n",
       "      <td>0</td>\n",
       "      <td>1</td>\n",
       "      <td>4</td>\n",
       "      <td>1</td>\n",
       "      <td>3</td>\n",
       "      <td>0</td>\n",
       "      <td>0.0</td>\n",
       "    </tr>\n",
       "    <tr>\n",
       "      <th>4</th>\n",
       "      <td>1</td>\n",
       "      <td>Female</td>\n",
       "      <td>Loyal Customer</td>\n",
       "      <td>Personal Travel</td>\n",
       "      <td>Eco</td>\n",
       "      <td>354</td>\n",
       "      <td>0</td>\n",
       "      <td>0</td>\n",
       "      <td>70</td>\n",
       "      <td>0</td>\n",
       "      <td>3</td>\n",
       "      <td>4</td>\n",
       "      <td>3</td>\n",
       "      <td>4</td>\n",
       "      <td>2</td>\n",
       "      <td>2</td>\n",
       "      <td>0</td>\n",
       "      <td>2</td>\n",
       "      <td>4</td>\n",
       "      <td>2</td>\n",
       "      <td>5</td>\n",
       "      <td>0</td>\n",
       "      <td>0.0</td>\n",
       "    </tr>\n",
       "  </tbody>\n",
       "</table>\n",
       "</div>"
      ],
      "text/plain": [
       "   satisfaction  Gender   Customer Type   Type of Travel     Class  \\\n",
       "0             1  Female  Loyal Customer  Personal Travel       Eco   \n",
       "1             1    Male  Loyal Customer  Personal Travel  Business   \n",
       "2             1  Female  Loyal Customer  Personal Travel       Eco   \n",
       "3             1  Female  Loyal Customer  Personal Travel       Eco   \n",
       "4             1  Female  Loyal Customer  Personal Travel       Eco   \n",
       "\n",
       "   Flight Distance  Seat comfort  Departure/Arrival time convenient  Age  \\\n",
       "0              265             0                                  0   65   \n",
       "1             2464             0                                  0   47   \n",
       "2             2138             0                                  0   15   \n",
       "3              623             0                                  0   60   \n",
       "4              354             0                                  0   70   \n",
       "\n",
       "   Food and drink  Gate location  Inflight wifi service  \\\n",
       "0               0              2                      2   \n",
       "1               0              3                      0   \n",
       "2               0              3                      2   \n",
       "3               0              3                      3   \n",
       "4               0              3                      4   \n",
       "\n",
       "   Inflight entertainment  Online support  Ease of Online booking  \\\n",
       "0                       4               2                       3   \n",
       "1                       2               2                       3   \n",
       "2                       0               2                       2   \n",
       "3                       4               3                       1   \n",
       "4                       3               4                       2   \n",
       "\n",
       "   On-board service  Leg room service  Baggage handling  Checkin service  \\\n",
       "0                 3                 0                 3                5   \n",
       "1                 4                 4                 4                2   \n",
       "2                 3                 3                 4                4   \n",
       "3                 1                 0                 1                4   \n",
       "4                 2                 0                 2                4   \n",
       "\n",
       "   Cleanliness  Online boarding  Departure Delay in Minutes  \\\n",
       "0            3                2                           0   \n",
       "1            3                2                         310   \n",
       "2            4                2                           0   \n",
       "3            1                3                           0   \n",
       "4            2                5                           0   \n",
       "\n",
       "   Arrival Delay in Minutes  \n",
       "0                       0.0  \n",
       "1                     305.0  \n",
       "2                       0.0  \n",
       "3                       0.0  \n",
       "4                       0.0  "
      ]
     },
     "execution_count": 86,
     "metadata": {},
     "output_type": "execute_result"
    }
   ],
   "source": [
    "#in column 'satisfaction', replace \"satisfied\" == 1 and \"dissatisfied\" == 0\n",
    "df_delete_row['satisfaction'] = df_delete_row['satisfaction'].replace({'satisfied': 1, 'dissatisfied': 0})\n",
    "df_delete_row.head()"
   ]
  },
  {
   "cell_type": "code",
   "execution_count": 87,
   "id": "d5ab6cf2-f53c-48b9-a74b-5fe53412db4d",
   "metadata": {
    "tags": []
   },
   "outputs": [
    {
     "name": "stdout",
     "output_type": "stream",
     "text": [
      "(129487, 23)\n",
      "(94448, 23)\n"
     ]
    }
   ],
   "source": [
    "#detect and eliminate outliers of continuous variables\n",
    "df_copy = df_delete_row.copy() # copy data for safe keeping\n",
    "var_list = ['Flight Distance', 'Departure Delay in Minutes', 'Arrival Delay in Minutes'] #list of variables for cycling through the loop\n",
    "\n",
    "for var in var_list:\n",
    "    iqr = df_copy[var_list].quantile(0.75)[var] - df_copy[var_list].quantile(0.25)[var] #establish the iqr by subracting the 25% from 75%\n",
    "    if not np.isnan(iqr): #if not null, then perform the following\n",
    "        ub = df_copy[var_list].quantile(0.75)[var] + 1.5*iqr # cal the upper bound\n",
    "        lb = df_copy[var_list].quantile(0.25)[var] - 1.5*iqr # cal the lower bound\n",
    "        df_copy = df_copy[(df_copy[var] <= ub) & (df_copy[var] >= lb)] # leave the values that are less than the ub and greater than the lb and resave in df_copy\n",
    "    \n",
    "print(df_delete_row.shape)\n",
    "print(df_copy.shape)"
   ]
  },
  {
   "cell_type": "code",
   "execution_count": 88,
   "id": "596673b3-78b4-4f0b-9782-cf8b24694fd6",
   "metadata": {
    "tags": []
   },
   "outputs": [
    {
     "data": {
      "text/html": [
       "<div>\n",
       "<style scoped>\n",
       "    .dataframe tbody tr th:only-of-type {\n",
       "        vertical-align: middle;\n",
       "    }\n",
       "\n",
       "    .dataframe tbody tr th {\n",
       "        vertical-align: top;\n",
       "    }\n",
       "\n",
       "    .dataframe thead th {\n",
       "        text-align: right;\n",
       "    }\n",
       "</style>\n",
       "<table border=\"1\" class=\"dataframe\">\n",
       "  <thead>\n",
       "    <tr style=\"text-align: right;\">\n",
       "      <th></th>\n",
       "      <th>satisfaction</th>\n",
       "      <th>Flight Distance</th>\n",
       "      <th>Seat comfort</th>\n",
       "      <th>Departure/Arrival time convenient</th>\n",
       "      <th>Age</th>\n",
       "      <th>Food and drink</th>\n",
       "      <th>Gate location</th>\n",
       "      <th>Inflight wifi service</th>\n",
       "      <th>Inflight entertainment</th>\n",
       "      <th>Online support</th>\n",
       "      <th>Ease of Online booking</th>\n",
       "      <th>On-board service</th>\n",
       "      <th>Leg room service</th>\n",
       "      <th>Baggage handling</th>\n",
       "      <th>Checkin service</th>\n",
       "      <th>Cleanliness</th>\n",
       "      <th>Online boarding</th>\n",
       "      <th>Departure Delay in Minutes</th>\n",
       "      <th>Arrival Delay in Minutes</th>\n",
       "      <th>Customer Type_disloyal Customer</th>\n",
       "      <th>Type of Travel_Personal Travel</th>\n",
       "      <th>Class_Eco</th>\n",
       "      <th>Class_Eco Plus</th>\n",
       "      <th>Gender_Male</th>\n",
       "    </tr>\n",
       "  </thead>\n",
       "  <tbody>\n",
       "    <tr>\n",
       "      <th>0</th>\n",
       "      <td>1</td>\n",
       "      <td>265</td>\n",
       "      <td>0</td>\n",
       "      <td>0</td>\n",
       "      <td>65</td>\n",
       "      <td>0</td>\n",
       "      <td>2</td>\n",
       "      <td>2</td>\n",
       "      <td>4</td>\n",
       "      <td>2</td>\n",
       "      <td>3</td>\n",
       "      <td>3</td>\n",
       "      <td>0</td>\n",
       "      <td>3</td>\n",
       "      <td>5</td>\n",
       "      <td>3</td>\n",
       "      <td>2</td>\n",
       "      <td>0</td>\n",
       "      <td>0.0</td>\n",
       "      <td>False</td>\n",
       "      <td>True</td>\n",
       "      <td>True</td>\n",
       "      <td>False</td>\n",
       "      <td>False</td>\n",
       "    </tr>\n",
       "    <tr>\n",
       "      <th>2</th>\n",
       "      <td>1</td>\n",
       "      <td>2138</td>\n",
       "      <td>0</td>\n",
       "      <td>0</td>\n",
       "      <td>15</td>\n",
       "      <td>0</td>\n",
       "      <td>3</td>\n",
       "      <td>2</td>\n",
       "      <td>0</td>\n",
       "      <td>2</td>\n",
       "      <td>2</td>\n",
       "      <td>3</td>\n",
       "      <td>3</td>\n",
       "      <td>4</td>\n",
       "      <td>4</td>\n",
       "      <td>4</td>\n",
       "      <td>2</td>\n",
       "      <td>0</td>\n",
       "      <td>0.0</td>\n",
       "      <td>False</td>\n",
       "      <td>True</td>\n",
       "      <td>True</td>\n",
       "      <td>False</td>\n",
       "      <td>False</td>\n",
       "    </tr>\n",
       "    <tr>\n",
       "      <th>3</th>\n",
       "      <td>1</td>\n",
       "      <td>623</td>\n",
       "      <td>0</td>\n",
       "      <td>0</td>\n",
       "      <td>60</td>\n",
       "      <td>0</td>\n",
       "      <td>3</td>\n",
       "      <td>3</td>\n",
       "      <td>4</td>\n",
       "      <td>3</td>\n",
       "      <td>1</td>\n",
       "      <td>1</td>\n",
       "      <td>0</td>\n",
       "      <td>1</td>\n",
       "      <td>4</td>\n",
       "      <td>1</td>\n",
       "      <td>3</td>\n",
       "      <td>0</td>\n",
       "      <td>0.0</td>\n",
       "      <td>False</td>\n",
       "      <td>True</td>\n",
       "      <td>True</td>\n",
       "      <td>False</td>\n",
       "      <td>False</td>\n",
       "    </tr>\n",
       "    <tr>\n",
       "      <th>4</th>\n",
       "      <td>1</td>\n",
       "      <td>354</td>\n",
       "      <td>0</td>\n",
       "      <td>0</td>\n",
       "      <td>70</td>\n",
       "      <td>0</td>\n",
       "      <td>3</td>\n",
       "      <td>4</td>\n",
       "      <td>3</td>\n",
       "      <td>4</td>\n",
       "      <td>2</td>\n",
       "      <td>2</td>\n",
       "      <td>0</td>\n",
       "      <td>2</td>\n",
       "      <td>4</td>\n",
       "      <td>2</td>\n",
       "      <td>5</td>\n",
       "      <td>0</td>\n",
       "      <td>0.0</td>\n",
       "      <td>False</td>\n",
       "      <td>True</td>\n",
       "      <td>True</td>\n",
       "      <td>False</td>\n",
       "      <td>False</td>\n",
       "    </tr>\n",
       "    <tr>\n",
       "      <th>5</th>\n",
       "      <td>1</td>\n",
       "      <td>1894</td>\n",
       "      <td>0</td>\n",
       "      <td>0</td>\n",
       "      <td>30</td>\n",
       "      <td>0</td>\n",
       "      <td>3</td>\n",
       "      <td>2</td>\n",
       "      <td>0</td>\n",
       "      <td>2</td>\n",
       "      <td>2</td>\n",
       "      <td>5</td>\n",
       "      <td>4</td>\n",
       "      <td>5</td>\n",
       "      <td>5</td>\n",
       "      <td>4</td>\n",
       "      <td>2</td>\n",
       "      <td>0</td>\n",
       "      <td>0.0</td>\n",
       "      <td>False</td>\n",
       "      <td>True</td>\n",
       "      <td>True</td>\n",
       "      <td>False</td>\n",
       "      <td>True</td>\n",
       "    </tr>\n",
       "  </tbody>\n",
       "</table>\n",
       "</div>"
      ],
      "text/plain": [
       "   satisfaction  Flight Distance  Seat comfort  \\\n",
       "0             1              265             0   \n",
       "2             1             2138             0   \n",
       "3             1              623             0   \n",
       "4             1              354             0   \n",
       "5             1             1894             0   \n",
       "\n",
       "   Departure/Arrival time convenient  Age  Food and drink  Gate location  \\\n",
       "0                                  0   65               0              2   \n",
       "2                                  0   15               0              3   \n",
       "3                                  0   60               0              3   \n",
       "4                                  0   70               0              3   \n",
       "5                                  0   30               0              3   \n",
       "\n",
       "   Inflight wifi service  Inflight entertainment  Online support  \\\n",
       "0                      2                       4               2   \n",
       "2                      2                       0               2   \n",
       "3                      3                       4               3   \n",
       "4                      4                       3               4   \n",
       "5                      2                       0               2   \n",
       "\n",
       "   Ease of Online booking  On-board service  Leg room service  \\\n",
       "0                       3                 3                 0   \n",
       "2                       2                 3                 3   \n",
       "3                       1                 1                 0   \n",
       "4                       2                 2                 0   \n",
       "5                       2                 5                 4   \n",
       "\n",
       "   Baggage handling  Checkin service  Cleanliness  Online boarding  \\\n",
       "0                 3                5            3                2   \n",
       "2                 4                4            4                2   \n",
       "3                 1                4            1                3   \n",
       "4                 2                4            2                5   \n",
       "5                 5                5            4                2   \n",
       "\n",
       "   Departure Delay in Minutes  Arrival Delay in Minutes  \\\n",
       "0                           0                       0.0   \n",
       "2                           0                       0.0   \n",
       "3                           0                       0.0   \n",
       "4                           0                       0.0   \n",
       "5                           0                       0.0   \n",
       "\n",
       "   Customer Type_disloyal Customer  Type of Travel_Personal Travel  Class_Eco  \\\n",
       "0                            False                            True       True   \n",
       "2                            False                            True       True   \n",
       "3                            False                            True       True   \n",
       "4                            False                            True       True   \n",
       "5                            False                            True       True   \n",
       "\n",
       "   Class_Eco Plus  Gender_Male  \n",
       "0           False        False  \n",
       "2           False        False  \n",
       "3           False        False  \n",
       "4           False        False  \n",
       "5           False         True  "
      ]
     },
     "execution_count": 88,
     "metadata": {},
     "output_type": "execute_result"
    }
   ],
   "source": [
    "cat_var = [\"Customer Type\",\"Type of Travel\",\"Class\", \"Gender\"] #list out all of the categorical variables that need dummy encoding\n",
    "df_cat = pd.get_dummies(df_copy, columns=cat_var, drop_first=True)\n",
    "df_cat.head()"
   ]
  },
  {
   "cell_type": "code",
   "execution_count": 89,
   "id": "dd7e344c-fe50-449e-b1d1-6eedcf2acc92",
   "metadata": {
    "tags": []
   },
   "outputs": [
    {
     "name": "stderr",
     "output_type": "stream",
     "text": [
      "C:\\Users\\mblus\\anaconda3\\lib\\site-packages\\seaborn\\_oldcore.py:1498: FutureWarning: is_categorical_dtype is deprecated and will be removed in a future version. Use isinstance(dtype, CategoricalDtype) instead\n",
      "  if pd.api.types.is_categorical_dtype(vector):\n",
      "C:\\Users\\mblus\\anaconda3\\lib\\site-packages\\seaborn\\_oldcore.py:1498: FutureWarning: is_categorical_dtype is deprecated and will be removed in a future version. Use isinstance(dtype, CategoricalDtype) instead\n",
      "  if pd.api.types.is_categorical_dtype(vector):\n",
      "C:\\Users\\mblus\\anaconda3\\lib\\site-packages\\seaborn\\_oldcore.py:1498: FutureWarning: is_categorical_dtype is deprecated and will be removed in a future version. Use isinstance(dtype, CategoricalDtype) instead\n",
      "  if pd.api.types.is_categorical_dtype(vector):\n",
      "C:\\Users\\mblus\\anaconda3\\lib\\site-packages\\seaborn\\_oldcore.py:1498: FutureWarning: is_categorical_dtype is deprecated and will be removed in a future version. Use isinstance(dtype, CategoricalDtype) instead\n",
      "  if pd.api.types.is_categorical_dtype(vector):\n",
      "C:\\Users\\mblus\\anaconda3\\lib\\site-packages\\seaborn\\_oldcore.py:1119: FutureWarning: use_inf_as_na option is deprecated and will be removed in a future version. Convert inf values to NaN before operating instead.\n",
      "  with pd.option_context('mode.use_inf_as_na', True):\n"
     ]
    },
    {
     "data": {
      "image/png": "[encoded data removed]",
      "text/plain": [
       "<Figure size 640x480 with 1 Axes>"
      ]
     },
     "metadata": {},
     "output_type": "display_data"
    }
   ],
   "source": [
    "#2\n",
    "fig, ax = plt.subplots()\n",
    "g = sns.kdeplot(data=df_copy, x=\"satisfaction\", fill=True, hue=\"Customer Type\", ax=ax)\n",
    "ax.set(title=\"density of satisfaction for loyal vs disloyal customers\")\n",
    "plt.show()\n",
    "\n"
   ]
  },
  {
   "cell_type": "code",
   "execution_count": 90,
   "id": "3726f6a2-4f03-42b7-aedd-aef001f68541",
   "metadata": {
    "tags": []
   },
   "outputs": [
    {
     "data": {
      "text/plain": [
       "satisfaction\n",
       "0    40408\n",
       "1    54040\n",
       "dtype: int64"
      ]
     },
     "execution_count": 90,
     "metadata": {},
     "output_type": "execute_result"
    }
   ],
   "source": [
    "df_cat.groupby(by=['satisfaction']).size()\n",
    "#get the size of each value of satisfaction column"
   ]
  },
  {
   "cell_type": "code",
   "execution_count": 91,
   "id": "65a26baf-df56-4189-908b-b322b4c66770",
   "metadata": {
    "tags": []
   },
   "outputs": [
    {
     "data": {
      "text/plain": [
       "satisfaction\n",
       "0    28328\n",
       "1    28328\n",
       "dtype: int64"
      ]
     },
     "execution_count": 91,
     "metadata": {},
     "output_type": "execute_result"
    }
   ],
   "source": [
    "df_cat['partition'] = np.random.choice(['train', 'test'], df_cat.shape[0], p=[0.7, 0.3]) # split the train and test data by 70/30 split percentage\n",
    "df_train = df_cat[df_cat['partition'] == 'train'] # df_train is equal to df_cat['partition'] when df_cat == train\n",
    "df_test= df_cat[df_cat['partition'] == 'test'] # df_test is equal to df_cat['partition'] when df_cat == test\n",
    " \n",
    "df_train_1 = df_train[df_train['satisfaction'] == 1] \n",
    "df_train_0 = df_train[df_train['satisfaction'] == 0]\n",
    "\n",
    "under = df_train_1.sample(n=df_train_0.shape[0]) # under sample the majority class to match the minority class\n",
    "df_train_bal = pd.concat([under, df_train_0]) # combine the undersampled majority and the minority data into one data set\n",
    "\n",
    "df_train_bal.groupby(by=['satisfaction']).size() # check the size of each type of satisfaction from the balanced dataset"
   ]
  },
  {
   "cell_type": "code",
   "execution_count": 92,
   "id": "e8c7fe19-6c00-42ca-a67c-3bd8de0ec62f",
   "metadata": {
    "tags": []
   },
   "outputs": [
    {
     "name": "stdout",
     "output_type": "stream",
     "text": [
      "r-squared of Flight Distance 0.0564014099639536\n",
      "VIF of Flight Distance 1.0597726729983763 \n",
      "\n",
      "r-squared of Departure Delay in Minutes 0.19270646211902798\n",
      "VIF of Departure Delay in Minutes 1.2387068062316644 \n",
      "\n",
      "r-squared of Arrival Delay in Minutes 0.19153847083044961\n",
      "VIF of Arrival Delay in Minutes 1.2369172359100344 \n",
      "\n",
      "r-squared of Age 0.05482107467134334\n",
      "VIF of Age 1.0580007374289275 \n",
      "\n"
     ]
    }
   ],
   "source": [
    "cols = ['Flight Distance', 'Departure Delay in Minutes', 'Arrival Delay in Minutes', 'Age'] # continuous variables to be checked for multicollinearity\n",
    "\n",
    "for var in cols: # for every variable that we have on top, we will go over this process\n",
    "    output_cols = df_train_bal[[var]] # what is going to be our output (colms)? 1 variable at a time.\n",
    "    \n",
    "    input_vars = cols.copy() # copy variables on top\n",
    "    input_vars.remove(var) # inputs - output variable; just a list\n",
    "    \n",
    "    input_cols = df_train_bal[input_vars] # list of all input colms \n",
    "    \n",
    "    lm = LinearRegression() # linear regression model\n",
    "    lm.fit(input_cols, output_cols) # fit the model\n",
    "    \n",
    "    output_pred = lm.predict(input_cols) # predic the output based on the model we built\n",
    "    \n",
    "    r2 = r2_score(output_cols, output_pred) # get the r2 value of the output col + output prediction\n",
    "    print('r-squared of', var, r2)\n",
    "    print('VIF of', var, 1/(1-r2), '\\n')\n",
    "    \n",
    "    #output < 4 is OKAY; low probability of collinearity"
   ]
  },
  {
   "cell_type": "code",
   "execution_count": 93,
   "id": "5e07c928-21f1-4387-9e31-86c7e22b5417",
   "metadata": {
    "tags": []
   },
   "outputs": [
    {
     "data": {
      "text/plain": [
       "Index(['satisfaction', 'Flight Distance', 'Seat comfort',\n",
       "       'Departure/Arrival time convenient', 'Age', 'Food and drink',\n",
       "       'Gate location', 'Inflight wifi service', 'Inflight entertainment',\n",
       "       'Online support', 'Ease of Online booking', 'On-board service',\n",
       "       'Leg room service', 'Baggage handling', 'Checkin service',\n",
       "       'Cleanliness', 'Online boarding', 'Departure Delay in Minutes',\n",
       "       'Arrival Delay in Minutes', 'Customer Type_disloyal Customer',\n",
       "       'Type of Travel_Personal Travel', 'Class_Eco', 'Class_Eco Plus',\n",
       "       'Gender_Male', 'partition'],\n",
       "      dtype='object')"
      ]
     },
     "execution_count": 93,
     "metadata": {},
     "output_type": "execute_result"
    }
   ],
   "source": [
    "df_train_bal.columns"
   ]
  },
  {
   "cell_type": "code",
   "execution_count": 94,
   "id": "1f34cfdc-a1bc-42aa-988b-c14a51ae0189",
   "metadata": {
    "tags": []
   },
   "outputs": [],
   "source": [
    "X_train = df_train_bal[['Age', 'Flight Distance', 'Seat comfort',\n",
    "                       'Departure/Arrival time convenient', 'Food and drink', 'Gate location',\n",
    "                       'Inflight wifi service', 'Inflight entertainment', 'Online support',\n",
    "                       'Ease of Online booking', 'On-board service', 'Leg room service',\n",
    "                       'Baggage handling', 'Checkin service', 'Cleanliness', 'Online boarding',\n",
    "                       'Departure Delay in Minutes', 'Arrival Delay in Minutes',\n",
    "                       'Customer Type_disloyal Customer', 'Type of Travel_Personal Travel',\n",
    "                       'Class_Eco', 'Class_Eco Plus', 'Gender_Male']]\n",
    "\n",
    "Y_train = df_train_bal[['satisfaction']]"
   ]
  },
  {
   "cell_type": "code",
   "execution_count": 95,
   "id": "bdfd83c1-43ae-45c9-8c64-7033bbdf79b7",
   "metadata": {
    "tags": []
   },
   "outputs": [],
   "source": [
    "X_test = df_test[['Age', 'Flight Distance', 'Seat comfort',\n",
    "                       'Departure/Arrival time convenient', 'Food and drink', 'Gate location',\n",
    "                       'Inflight wifi service', 'Inflight entertainment', 'Online support',\n",
    "                       'Ease of Online booking', 'On-board service', 'Leg room service',\n",
    "                       'Baggage handling', 'Checkin service', 'Cleanliness', 'Online boarding',\n",
    "                       'Departure Delay in Minutes', 'Arrival Delay in Minutes',\n",
    "                       'Customer Type_disloyal Customer', 'Type of Travel_Personal Travel',\n",
    "                       'Class_Eco', 'Class_Eco Plus', 'Gender_Male']]\n",
    "\n",
    "Y_test = df_test[['satisfaction']]"
   ]
  },
  {
   "cell_type": "code",
   "execution_count": 96,
   "id": "14cc065b-b20f-4e2c-9c2c-757d1552dfbb",
   "metadata": {
    "tags": []
   },
   "outputs": [],
   "source": [
    "X_train2 = X_train\n",
    "Y_train2 = Y_train"
   ]
  },
  {
   "cell_type": "code",
   "execution_count": 97,
   "id": "aa5b28a7-5624-478e-a509-60d1a34595ef",
   "metadata": {
    "tags": []
   },
   "outputs": [
    {
     "data": {
      "text/plain": [
       "(56656, 23)"
      ]
     },
     "execution_count": 97,
     "metadata": {},
     "output_type": "execute_result"
    }
   ],
   "source": [
    "X_train2 = np.asarray(X_train2).astype(np.int_) # set as np int\n",
    "Y_train2 = np.array(Y_train2).astype(np.int_)# set as np int\n",
    "\n",
    "X_train2.shape"
   ]
  },
  {
   "cell_type": "code",
   "execution_count": 98,
   "id": "ecbef6f0-ba73-4a51-88c3-ee005ae7d3c2",
   "metadata": {
    "tags": []
   },
   "outputs": [
    {
     "name": "stdout",
     "output_type": "stream",
     "text": [
      "Epoch 1/10\n",
      "5666/5666 [==============================] - 14s 2ms/step - loss: 0.5821 - accuracy: 0.6730\n",
      "Epoch 2/10\n",
      "5666/5666 [==============================] - 14s 2ms/step - loss: 0.4160 - accuracy: 0.8175\n",
      "Epoch 3/10\n",
      "5666/5666 [==============================] - 17s 3ms/step - loss: 0.4038 - accuracy: 0.8243\n",
      "Epoch 4/10\n",
      "5666/5666 [==============================] - 16s 3ms/step - loss: 0.3979 - accuracy: 0.8277\n",
      "Epoch 5/10\n",
      "5666/5666 [==============================] - 15s 3ms/step - loss: 0.3948 - accuracy: 0.8288\n",
      "Epoch 6/10\n",
      "5666/5666 [==============================] - 15s 3ms/step - loss: 0.3899 - accuracy: 0.8302\n",
      "Epoch 7/10\n",
      "5666/5666 [==============================] - 15s 3ms/step - loss: 0.3847 - accuracy: 0.8336\n",
      "Epoch 8/10\n",
      "5666/5666 [==============================] - 14s 3ms/step - loss: 0.3788 - accuracy: 0.8362\n",
      "Epoch 9/10\n",
      "5666/5666 [==============================] - 15s 3ms/step - loss: 0.3676 - accuracy: 0.8409\n",
      "Epoch 10/10\n",
      "5666/5666 [==============================] - 14s 2ms/step - loss: 0.3555 - accuracy: 0.8440\n"
     ]
    }
   ],
   "source": [
    "model = Sequential()\n",
    "# Defining the Input layer and FIRST hidden layer; in this case both are the same\n",
    "# relu means Rectifier linear unit function\n",
    "model.add(Dense(units=10, input_dim=23, kernel_initializer='uniform', activation='relu'))\n",
    "\n",
    "#Defining the 2nd SECOND hidden layer.\n",
    "# second layer and it will get input as the output of first hidden layer\n",
    "model.add(Dense(units=6, kernel_initializer='uniform', activation='relu'))\n",
    "\n",
    "# Defining the Output layer\n",
    "# sigmoid means sigmoid activation function\n",
    "# output_dim will be equal to the number of factor levels\n",
    "model.add(Dense(units=1, kernel_initializer='uniform', activation='sigmoid'))\n",
    "\n",
    "# Optimizer - the algorithm of SGG to keep updating weights\n",
    "# loss - the loss function to measure the accuracy\n",
    "# metrics -the way we will compare the accuracy after each step of SGD\n",
    "model.compile(optimizer='adam', loss='binary_crossentropy', metrics=['accuracy'])\n",
    "\n",
    "es = EarlyStopping(monitor='val_accuracy', \n",
    "                                   mode='max', # dont want to minimize the accuracy\n",
    "                                   patience=10,\n",
    "                                   restore_best_weights=True)\n",
    "\n",
    "# fitting the Neural Network on the training data\n",
    "training_model=model.fit(X_train2,Y_train2, batch_size=10, epochs=10, verbose=1)\n",
    "\n",
    "\n",
    "\n"
   ]
  },
  {
   "cell_type": "code",
   "execution_count": 99,
   "id": "6e640c91-a008-40b7-9247-edcfa29da827",
   "metadata": {
    "tags": []
   },
   "outputs": [
    {
     "name": "stdout",
     "output_type": "stream",
     "text": [
      "1 Parameters: batch_size: 5 - epochs: 5 Accuracy: 0.833380401134491\n"
     ]
    },
    {
     "name": "stderr",
     "output_type": "stream",
     "text": [
      "C:\\Users\\mblus\\AppData\\Local\\Temp\\ipykernel_21068\\3146403689.py:34: FutureWarning: The behavior of DataFrame concatenation with empty or all-NA entries is deprecated. In a future version, this will no longer exclude empty or all-NA columns when determining the result dtypes. To retain the old behavior, exclude the relevant entries before the concat operation.\n",
      "  SearchResultsData = pd.concat([SearchResultsData, append_df], ignore_index=True)\n"
     ]
    },
    {
     "name": "stdout",
     "output_type": "stream",
     "text": [
      "2 Parameters: batch_size: 5 - epochs: 10 Accuracy: 0.8448001742362976\n",
      "3 Parameters: batch_size: 5 - epochs: 15 Accuracy: 0.8545784950256348\n",
      "4 Parameters: batch_size: 10 - epochs: 5 Accuracy: 0.8323743343353271\n",
      "5 Parameters: batch_size: 10 - epochs: 10 Accuracy: 0.8413230776786804\n",
      "6 Parameters: batch_size: 10 - epochs: 15 Accuracy: 0.873376190662384\n",
      "7 Parameters: batch_size: 15 - epochs: 5 Accuracy: 0.8312270641326904\n",
      "8 Parameters: batch_size: 15 - epochs: 10 Accuracy: 0.8396109938621521\n",
      "9 Parameters: batch_size: 15 - epochs: 15 Accuracy: 0.8767650127410889\n"
     ]
    }
   ],
   "source": [
    "# Defining a function for finding best hyperparameters\n",
    "def FunctionFindBestParams(X_train2, Y_train2):\n",
    "\n",
    "     # Defining the list of hyper parameters to try\n",
    "    TrialNumber=0\n",
    "    batch_size_list=[5, 10, 15]\n",
    "    epoch_list=[5, 10, 15]\n",
    "\n",
    "    SearchResultsData=pd.DataFrame(columns=['TrialNumber', 'Parameters', 'Accuracy'])\n",
    "    \n",
    "    for batch_size_trial in batch_size_list:\n",
    "        for epochs_trial in epoch_list:\n",
    "            TrialNumber+=1\n",
    "            \n",
    "            # Creating the classifier ANN model\n",
    "            model = Sequential()\n",
    "            model.add(Dense(units=10, input_dim=23, kernel_initializer='uniform', activation='relu'))\n",
    "            model.add(Dense(units=6, kernel_initializer='uniform', activation='relu'))\n",
    "            model.add(Dense(units=1, kernel_initializer='uniform', activation='sigmoid'))\n",
    "            model.compile(optimizer='adam', loss='binary_crossentropy', metrics=['accuracy'])\n",
    "\n",
    "            survivalANN_Model=model.fit(X_train2,Y_train2, batch_size=batch_size_trial , epochs=epochs_trial, verbose=0)\n",
    "            \n",
    "            # retrieve the accuracy of the training\n",
    "            Accuracy = survivalANN_Model.history['accuracy'][-1]\n",
    "            \n",
    "            # printing the results of the current iteration\n",
    "            print(TrialNumber, 'Parameters:','batch_size:', batch_size_trial,'-', 'epochs:',epochs_trial, 'Accuracy:', Accuracy)\n",
    "            \n",
    "            append_df = pd.DataFrame(data=[[TrialNumber,\n",
    "                            'batch_size'+str(batch_size_trial)+'-'+'epoch'+str(epochs_trial), Accuracy]],\n",
    "                                                                    columns=['TrialNumber', 'Parameters', 'Accuracy'] )\n",
    "            \n",
    "            SearchResultsData = pd.concat([SearchResultsData, append_df], ignore_index=True)\n",
    "    return(SearchResultsData)\n",
    "\n",
    "###############################################\n",
    "\n",
    "# call the function defined above\n",
    "ResultsData=FunctionFindBestParams(X_train2, Y_train2)"
   ]
  },
  {
   "cell_type": "code",
   "execution_count": 100,
   "id": "eb80d7fb-824c-4dc1-a9c8-e3a763d0b49d",
   "metadata": {
    "tags": []
   },
   "outputs": [
    {
     "name": "stdout",
     "output_type": "stream",
     "text": [
      "  TrialNumber            Parameters  Accuracy\n",
      "8           9  batch_size15-epoch15  0.876765\n"
     ]
    },
    {
     "data": {
      "text/plain": [
       "<Axes: xlabel='Parameters'>"
      ]
     },
     "execution_count": 100,
     "metadata": {},
     "output_type": "execute_result"
    },
    {
     "data": {
      "image/png": "[encoded data removed]",
      "text/plain": [
       "<Figure size 1500x400 with 1 Axes>"
      ]
     },
     "metadata": {},
     "output_type": "display_data"
    }
   ],
   "source": [
    "# Print the best parameter\n",
    "print(ResultsData.sort_values(by='Accuracy', ascending=False).head(1))\n",
    "\n",
    "# Visualizing the results\n",
    "%matplotlib inline\n",
    "ResultsData.plot(x='Parameters', y='Accuracy', figsize=(15,4), kind='line', rot=20)"
   ]
  },
  {
   "cell_type": "code",
   "execution_count": 101,
   "id": "2cba78c2-f31b-4ad9-b851-b58c0abfcc07",
   "metadata": {
    "tags": []
   },
   "outputs": [
    {
     "name": "stdout",
     "output_type": "stream",
     "text": [
      "Epoch 1/15\n",
      "3778/3778 [==============================] - 12s 3ms/step - loss: 0.3332 - accuracy: 0.8560\n",
      "Epoch 2/15\n",
      "3778/3778 [==============================] - 12s 3ms/step - loss: 0.3239 - accuracy: 0.8592\n",
      "Epoch 3/15\n",
      "3778/3778 [==============================] - 12s 3ms/step - loss: 0.3135 - accuracy: 0.8641\n",
      "Epoch 4/15\n",
      "3778/3778 [==============================] - 13s 3ms/step - loss: 0.3099 - accuracy: 0.8667\n",
      "Epoch 5/15\n",
      "3778/3778 [==============================] - 12s 3ms/step - loss: 0.3031 - accuracy: 0.8692\n",
      "Epoch 6/15\n",
      "3778/3778 [==============================] - 13s 3ms/step - loss: 0.3005 - accuracy: 0.8714\n",
      "Epoch 7/15\n",
      "3778/3778 [==============================] - 12s 3ms/step - loss: 0.2925 - accuracy: 0.8743\n",
      "Epoch 8/15\n",
      "3778/3778 [==============================] - 12s 3ms/step - loss: 0.2886 - accuracy: 0.8736\n",
      "Epoch 9/15\n",
      "3778/3778 [==============================] - 12s 3ms/step - loss: 0.2820 - accuracy: 0.8798\n",
      "Epoch 10/15\n",
      "3778/3778 [==============================] - 14s 4ms/step - loss: 0.2760 - accuracy: 0.8806\n",
      "Epoch 11/15\n",
      "3778/3778 [==============================] - 13s 4ms/step - loss: 0.2720 - accuracy: 0.8825\n",
      "Epoch 12/15\n",
      "3778/3778 [==============================] - 12s 3ms/step - loss: 0.2685 - accuracy: 0.8836\n",
      "Epoch 13/15\n",
      "3778/3778 [==============================] - 11s 3ms/step - loss: 0.2629 - accuracy: 0.8848\n",
      "Epoch 14/15\n",
      "3778/3778 [==============================] - 11s 3ms/step - loss: 0.2615 - accuracy: 0.8862\n",
      "Epoch 15/15\n",
      "3778/3778 [==============================] - 11s 3ms/step - loss: 0.2608 - accuracy: 0.8863\n"
     ]
    },
    {
     "data": {
      "text/plain": [
       "<keras.callbacks.History at 0x2a558b83be0>"
      ]
     },
     "execution_count": 101,
     "metadata": {},
     "output_type": "execute_result"
    }
   ],
   "source": [
    "# Training the model with best hyperparamters\n",
    "model.fit(X_train2, Y_train2, batch_size=15 , epochs=15, verbose=1)"
   ]
  },
  {
   "cell_type": "code",
   "execution_count": 102,
   "id": "4db2ecd2-4b91-4ecf-a5f5-671020692764",
   "metadata": {
    "tags": []
   },
   "outputs": [],
   "source": [
    "X_test2 = X_test\n",
    "Y_test2 = Y_test"
   ]
  },
  {
   "cell_type": "code",
   "execution_count": 103,
   "id": "620c072c-22df-46cd-8ba5-b0de68977acb",
   "metadata": {
    "tags": []
   },
   "outputs": [],
   "source": [
    "X_test2 = np.asarray(X_test2).astype(np.int_) # define as np int\n",
    "Y_test2 = np.array(Y_test2).astype(np.int_) # define as np int"
   ]
  },
  {
   "cell_type": "code",
   "execution_count": 104,
   "id": "8a172539-6b8f-4d7f-8727-352a6f6030f4",
   "metadata": {
    "tags": []
   },
   "outputs": [
    {
     "name": "stdout",
     "output_type": "stream",
     "text": [
      "891/891 [==============================] - 2s 2ms/step\n",
      "891/891 [==============================] - 2s 2ms/step\n"
     ]
    }
   ],
   "source": [
    "# Predictions on testing data\n",
    "Predictions=model.predict(X_test2)\n",
    "\n",
    "pred_sat_or_not = np.round(model.predict(X_test2),0)"
   ]
  },
  {
   "cell_type": "code",
   "execution_count": 105,
   "id": "be7bb6fd-43db-4f8d-8102-1290123bbcbc",
   "metadata": {
    "tags": []
   },
   "outputs": [
    {
     "name": "stdout",
     "output_type": "stream",
     "text": [
      "[[1.]\n",
      " [1.]\n",
      " [1.]\n",
      " ...\n",
      " [0.]\n",
      " [1.]\n",
      " [1.]]\n"
     ]
    }
   ],
   "source": [
    "print(pred_sat_or_not)"
   ]
  },
  {
   "cell_type": "code",
   "execution_count": 106,
   "id": "34af4bef-9dc3-44ec-855d-5ef626bd09c0",
   "metadata": {
    "tags": []
   },
   "outputs": [
    {
     "name": "stdout",
     "output_type": "stream",
     "text": [
      "[[10624  1456]\n",
      " [ 1457 14960]]\n"
     ]
    }
   ],
   "source": [
    "print(confusion_matrix(Y_test2, pred_sat_or_not)) # (actual, predicted)\n",
    "\n",
    "#[TN, FP]\n",
    "#[FN, TP]"
   ]
  },
  {
   "cell_type": "code",
   "execution_count": 107,
   "id": "a206cfa4-b7be-4c16-b6bf-e7d36f953309",
   "metadata": {
    "tags": []
   },
   "outputs": [
    {
     "data": {
      "text/plain": [
       "<sklearn.metrics._plot.confusion_matrix.ConfusionMatrixDisplay at 0x2a550e9cb80>"
      ]
     },
     "execution_count": 107,
     "metadata": {},
     "output_type": "execute_result"
    },
    {
     "data": {
      "image/png": "[encoded data removed]",
      "text/plain": [
       "<Figure size 640x480 with 2 Axes>"
      ]
     },
     "metadata": {},
     "output_type": "display_data"
    }
   ],
   "source": [
    "#confusion matrix \n",
    "cm = confusion_matrix(Y_test, pred_sat_or_not) \n",
    "# cm # 1 row corresponds to label 0, 2nd row corresponds to label 1\n",
    "\n",
    "ConfusionMatrixDisplay(cm).plot()"
   ]
  },
  {
   "cell_type": "code",
   "execution_count": 108,
   "id": "ef40208a-f875-49e9-a160-283163a814ca",
   "metadata": {
    "tags": []
   },
   "outputs": [
    {
     "name": "stdout",
     "output_type": "stream",
     "text": [
      "              precision    recall  f1-score   support\n",
      "\n",
      "           0       0.88      0.88      0.88     12080\n",
      "           1       0.91      0.91      0.91     16417\n",
      "\n",
      "    accuracy                           0.90     28497\n",
      "   macro avg       0.90      0.90      0.90     28497\n",
      "weighted avg       0.90      0.90      0.90     28497\n",
      "\n"
     ]
    }
   ],
   "source": [
    "print(classification_report(Y_test2, pred_sat_or_not))"
   ]
  },
  {
   "cell_type": "code",
   "execution_count": 109,
   "id": "44bf98f2-d448-4a4c-8ab4-532af57b96ae",
   "metadata": {},
   "outputs": [
    {
     "data": {
      "text/plain": [
       "<matplotlib.legend.Legend at 0x2a550e17d60>"
      ]
     },
     "execution_count": 109,
     "metadata": {},
     "output_type": "execute_result"
    },
    {
     "data": {
      "image/png": "[encoded data removed]",
      "text/plain": [
       "<Figure size 640x480 with 1 Axes>"
      ]
     },
     "metadata": {},
     "output_type": "display_data"
    }
   ],
   "source": [
    "fpr, tpr, thresholds = metrics.roc_curve(Y_test2, pred_sat_or_not)\n",
    " \n",
    "#calculating area under the curve(AUC)\n",
    "roc_auc = metrics.auc(fpr, tpr)\n",
    "roc_auc\n",
    "\n",
    "plt.clf()\n",
    "plt.plot(fpr, tpr, label =\"ROC curve (area=%0.2f)\" % roc_auc)\n",
    "plt.plot([0,1], [0,1], 'k--')\n",
    "plt.legend(loc=\"lower right\")"
   ]
  },
  {
   "cell_type": "code",
   "execution_count": null,
   "id": "4f6afdb6-c749-495b-b148-222354f7d634",
   "metadata": {},
   "outputs": [],
   "source": []
  }
 ],
 "metadata": {
  "kernelspec": {
   "display_name": "Python 3 (ipykernel)",
   "language": "python",
   "name": "python3"
  },
  "language_info": {
   "codemirror_mode": {
    "name": "ipython",
    "version": 3
   },
   "file_extension": ".py",
   "mimetype": "text/x-python",
   "name": "python",
   "nbconvert_exporter": "python",
   "pygments_lexer": "ipython3",
   "version": "3.10.13"
  }
 },
 "nbformat": 4,
 "nbformat_minor": 5
}
